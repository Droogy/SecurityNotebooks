{
 "cells": [
  {
   "cell_type": "code",
   "execution_count": null,
   "id": "7a09db31-6246-4646-9bb1-dec705d2461e",
   "metadata": {
    "tags": []
   },
   "outputs": [],
   "source": [
    "!pip install Shodan"
   ]
  },
  {
   "cell_type": "code",
   "execution_count": null,
   "id": "214899e1-5fcc-4bc5-bf3e-6f2133edf6c1",
   "metadata": {},
   "outputs": [],
   "source": [
    "import csv\n",
    "import pandas as pd\n",
    "from rich import print, print_json\n",
    "from shodan import Shodan\n",
    "import json\n",
    "from io import StringIO\n",
    "\n",
    "pd.set_option('display.max_rows', None)\n",
    "pd.set_option('display.max_columns', None)\n",
    "pd.set_option('display.width', None)\n",
    "pd.set_option('display.max_colwidth', None)"
   ]
  },
  {
   "cell_type": "code",
   "execution_count": null,
   "id": "953edce8-1bb4-441f-bd6c-c80bf6d3fead",
   "metadata": {
    "tags": []
   },
   "outputs": [],
   "source": [
    "api = Shodan(\"APIKEY\")\n"
   ]
  },
  {
   "cell_type": "markdown",
   "id": "8ce545d0-8336-4900-8cca-fe406e0cd3f8",
   "metadata": {},
   "source": [
    "### Lookup an IP"
   ]
  },
  {
   "cell_type": "code",
   "execution_count": null,
   "id": "396afec8-09c5-4b66-92d2-a6913958db1b",
   "metadata": {
    "tags": []
   },
   "outputs": [],
   "source": [
    "ipinfo = api.host(\"8.8.8.8\")\n",
    "print(ipinfo)"
   ]
  },
  {
   "cell_type": "markdown",
   "id": "9a1870e1-2f6e-4901-b7da-25424753c85e",
   "metadata": {},
   "source": [
    "### Search for websites containing title \"hacked by\""
   ]
  },
  {
   "cell_type": "code",
   "execution_count": null,
   "id": "bcf13c49-0a41-4daf-bc4f-34a516e4f1d6",
   "metadata": {
    "tags": []
   },
   "outputs": [],
   "source": [
    "websites = api.search(\"http.title:'hacked by'\")"
   ]
  },
  {
   "cell_type": "code",
   "execution_count": null,
   "id": "493d20d7-72ce-4c9c-90b2-62bf022b8d11",
   "metadata": {},
   "outputs": [],
   "source": [
    "websites.keys()"
   ]
  },
  {
   "cell_type": "code",
   "execution_count": null,
   "id": "52c6ed5e-6ce3-41a0-b6aa-c6a78e98fef8",
   "metadata": {
    "tags": []
   },
   "outputs": [],
   "source": [
    "websites[\"matches\"][1][\"http\"]"
   ]
  },
  {
   "cell_type": "code",
   "execution_count": null,
   "id": "3ac70085-84e5-4834-84eb-46a4da689566",
   "metadata": {},
   "outputs": [],
   "source": [
    "hackers = {}\n",
    "for website in websites[\"matches\"]:\n",
    "    data = {\n",
    "        website['http']['title']: website['http']['server']\n",
    "    }\n",
    "    hackers.update(data)"
   ]
  },
  {
   "cell_type": "code",
   "execution_count": null,
   "id": "c6bef933-8eda-46ff-ab93-f053036497e6",
   "metadata": {
    "collapsed": true,
    "jupyter": {
     "outputs_hidden": true
    },
    "tags": []
   },
   "outputs": [],
   "source": [
    "hackers"
   ]
  },
  {
   "cell_type": "code",
   "execution_count": null,
   "id": "3adeba78-4353-452c-96dd-a1b39ff5de2c",
   "metadata": {},
   "outputs": [],
   "source": [
    "hackers_df = pd.DataFrame(hackers.items(), columns=[\"Hacker\", \"Server\"])"
   ]
  },
  {
   "cell_type": "markdown",
   "id": "4601f046-fc9d-4f8f-9dee-ccdcc02feccc",
   "metadata": {},
   "source": [
    "#### Show \"Top Ten\" Hackers"
   ]
  },
  {
   "cell_type": "code",
   "execution_count": null,
   "id": "a5f3f746-166c-446a-92d6-ded7b16da71a",
   "metadata": {},
   "outputs": [],
   "source": [
    "hackers_df[\"Hacker\"].value_counts(ascending=True)"
   ]
  },
  {
   "cell_type": "code",
   "execution_count": null,
   "id": "690f73e4-0154-4bc3-98cc-8a5d989d1f71",
   "metadata": {},
   "outputs": [],
   "source": [
    "hackesr_df.groupby(\"Server\").value_counts()"
   ]
  },
  {
   "cell_type": "code",
   "execution_count": null,
   "id": "f11ea9fd-21c0-4afc-8d95-af416f2f4a13",
   "metadata": {},
   "outputs": [],
   "source": [
    "hackercounts=hackers_df[\"Hacker\"].value_counts()\n",
    "pd.DataFrame(hackercounts)"
   ]
  },
  {
   "cell_type": "code",
   "execution_count": null,
   "id": "0b36b492-6126-4f4f-8596-7e5e0a8401f9",
   "metadata": {},
   "outputs": [],
   "source": [
    "# Get the total number of industrial control systems services on the Internet\n",
    "ics_services = api.count(\"tag:ics\")\n",
    "print(\"Industrial Control Systems: {}\".format(ics_services[\"total\"]))"
   ]
  }
 ],
 "metadata": {
  "kernelspec": {
   "display_name": "Python 3.10.2 64-bit",
   "language": "python",
   "name": "python3"
  },
  "language_info": {
   "codemirror_mode": {
    "name": "ipython",
    "version": 3
   },
   "file_extension": ".py",
   "mimetype": "text/x-python",
   "name": "python",
   "nbconvert_exporter": "python",
   "pygments_lexer": "ipython3",
   "version": "3.10.2"
  },
  "vscode": {
   "interpreter": {
    "hash": "26de051ba29f2982a8de78e945f0abaf191376122a1563185a90213a26c5da77"
   }
  }
 },
 "nbformat": 4,
 "nbformat_minor": 5
}
