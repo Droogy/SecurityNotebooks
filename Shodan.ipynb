{
 "cells": [
  {
   "cell_type": "code",
   "execution_count": null,
   "id": "7a09db31-6246-4646-9bb1-dec705d2461e",
   "metadata": {
    "tags": []
   },
   "outputs": [],
   "source": [
    "!pip install Shodan"
   ]
  },
  {
   "cell_type": "code",
   "execution_count": 1,
   "id": "214899e1-5fcc-4bc5-bf3e-6f2133edf6c1",
   "metadata": {},
   "outputs": [],
   "source": [
    "import csv\n",
    "import pandas as pd\n",
    "from rich import print, print_json\n",
    "from shodan import Shodan\n",
    "import json\n",
    "from io import StringIO\n",
    "\n",
    "pd.set_option('display.max_rows', None)\n",
    "pd.set_option('display.max_columns', None)\n",
    "pd.set_option('display.width', None)\n",
    "pd.set_option('display.max_colwidth', None)"
   ]
  },
  {
   "cell_type": "code",
   "execution_count": 1,
   "id": "953edce8-1bb4-441f-bd6c-c80bf6d3fead",
   "metadata": {
    "tags": []
   },
   "source": [
    "api = Shodan(\"APIKEY\")\n"
   ]
  },
  {
   "cell_type": "markdown",
   "id": "8ce545d0-8336-4900-8cca-fe406e0cd3f8",
   "metadata": {},
   "source": [
    "### Lookup an IP"
   ]
  },
  {
   "cell_type": "code",
   "execution_count": null,
   "id": "396afec8-09c5-4b66-92d2-a6913958db1b",
   "metadata": {
    "tags": []
   },
   "outputs": [],
   "source": [
    "ipinfo = api.host(\"8.8.8.8\")\n",
    "print(ipinfo)"
   ]
  },
  {
   "cell_type": "markdown",
   "id": "9a1870e1-2f6e-4901-b7da-25424753c85e",
   "metadata": {},
   "source": [
    "### Search for websites containing title \"hacked by\""
   ]
  },
  {
   "cell_type": "code",
   "execution_count": 3,
   "id": "bcf13c49-0a41-4daf-bc4f-34a516e4f1d6",
   "metadata": {
    "tags": []
   },
   "outputs": [],
   "source": [
    "websites = api.search(\"http.title:'hacked by'\")"
   ]
  },
  {
   "cell_type": "code",
   "execution_count": null,
   "id": "493d20d7-72ce-4c9c-90b2-62bf022b8d11",
   "metadata": {},
   "outputs": [],
   "source": [
    "websites.keys()"
   ]
  },
  {
   "cell_type": "code",
   "execution_count": null,
   "id": "52c6ed5e-6ce3-41a0-b6aa-c6a78e98fef8",
   "metadata": {
    "tags": []
   },
   "outputs": [],
   "source": [
    "websites[\"matches\"][1][\"http\"]"
   ]
  },
  {
   "cell_type": "code",
   "execution_count": 4,
   "id": "3ac70085-84e5-4834-84eb-46a4da689566",
   "metadata": {},
   "outputs": [],
   "source": [
    "hackers = {}\n",
    "for website in websites[\"matches\"]:\n",
    "    data = {\n",
    "        website['http']['title']: website['http']['server']\n",
    "    }\n",
    "    hackers.update(data)"
   ]
  },
  {
   "cell_type": "code",
   "execution_count": 5,
   "id": "c6bef933-8eda-46ff-ab93-f053036497e6",
   "metadata": {
    "collapsed": true,
    "jupyter": {
     "outputs_hidden": true
    },
    "tags": []
   },
   "outputs": [
    {
     "data": {
      "text/plain": [
       "{'HackeD By Desert Warriors ': 'Apache/2.2.16 (Debian) PHP/5.3.3-7+squeeze15 with Suhosin-Patch prxp_module/1.11.20',\n",
       " 'Hacked By Sipahiler ': 'Microsoft-IIS/6.0',\n",
       " 'HACKED by TheZero': 'Apache',\n",
       " 'HACKED BY MOSLEM | Just another WordPress site': 'nginx',\n",
       " 'Hacked by 407 Authentic Exploit': 'LiteSpeed',\n",
       " 'Hacked By Xtremee killar aka Seckiller': 'Apache',\n",
       " 'Hacked By @HowAmI | @HowAmI_xD': 'Apache/2.4.29 (Ubuntu) mod_fcgid/2.3.9 OpenSSL/1.1.1',\n",
       " 'Hacked By MR-H.A.K': 'Apache',\n",
       " 'HACKED BY MR.X404': 'Apache/2.4.6 (CentOS) OpenSSL/1.0.2k-fips PHP/5.6.24',\n",
       " 'Hacked by BDhaCkers009': 'Apache',\n",
       " ' Hacked By Xeit666h05T ': 'nginx/1.14.0',\n",
       " 'Hacked By Skyzi Xploit': 'Apache/2.4.41 (Ubuntu)',\n",
       " 'hacked by slou': 'Apache',\n",
       " '[+]~HaCKeD By Bl4ck_C0d3r | Cyb3r_Sw0rd !~[+]': 'Apache',\n",
       " 'Hacked by P3YCH': 'Apache/2.4.10 (Debian)',\n",
       " 'Hacked by 4Ri3 60ndr0n9 &#8211; Hacked by 4Ri3 60ndr0n9': 'Apache',\n",
       " 'Hacked By Tn.Rezza403': 'Apache/2.4.53 (cPanel) OpenSSL/1.1.1o mod_bwlimited/1.4',\n",
       " '\\n      Hacked By EbRaHiM-VaKeR / Iranonymous.com\\n | iWish\\n  ': 'Apache/2.4.29 (Ubuntu)',\n",
       " 'Hacked By MR.404CYBER': 'nginx/1.19.10',\n",
       " 'Hacked by ./randiXploit &#8211; Just another WordPress site': 'LiteSpeed',\n",
       " 'HACKED BY TERİHEX': 'nginx',\n",
       " 'hacked by temp3 &#8211; Bandung6etar &#8211; Just another WordPress site': 'Apache/2.4.37 (centos)',\n",
       " 'Hacked By Mrcakil &#8211; Just another WordPress site': 'Apache',\n",
       " 'hacked by MR44J': 'Apache',\n",
       " 'HACKED BY YUNUS_EMRE AND TÜRK SİBER TİMİ &#8211; HACKED BY YUNUS_EMRE AND TÜRK SİBER TİMİ': 'Apache/2.4.52 ()',\n",
       " 'Hacked By Red-z1': 'Apache',\n",
       " 'Hacked by Matigan1337': 'Apache',\n",
       " 'Hacked By XNight': 'Apache/2.4.38 (Debian)',\n",
       " 'hacked by mr.croot': 'Apache',\n",
       " 'Hacked! By M4ST3R': None,\n",
       " 'Hacked by Katib | SpyHackerz.Org': 'Apache',\n",
       " '|Hacked by Ali Afee': 'Apache',\n",
       " 'Hacked By Ghost Tim Security Army Hackers': 'IdeaWebServer/5.0.0',\n",
       " 'HacKed by b3t@.Qu@rK': 'lighttpd/1.4.53',\n",
       " 'Hacked By CNSS': 'nginx/1.12.0',\n",
       " 'Hacked By Farel07 &#8211; JUST9 BLACKHAT': 'nginx',\n",
       " ' Hacked by Sp0d3rM4n': 'Apache/2.4.7 (Ubuntu)',\n",
       " 'Hacked by Sir Dede ': 'Apache',\n",
       " 'Hacked By Fahri.XD': 'nginx',\n",
       " '[+] Hacked By Ax[+] 2022': 'nginx/1.18.0 (Ubuntu)',\n",
       " 'HACKED by WarLoCk': 'Apache/2.2.22 (Ubuntu)',\n",
       " 'Hacked by Fr13nds': 'Apache',\n",
       " 'Hacked by Reza_X7 &#8211; Just another WordPress site': 'Apache/2.4.53 (Debian)',\n",
       " 'Hacked By Phantom & Termi': 'Apache/2.4.6 (CentOS) OpenSSL/1.0.2k-fips PHP/5.4.16',\n",
       " 'Our Work | Hacked by tokeichun': 'Apache',\n",
       " ' Hacked by Kabuto & Madara & Kenzuna': 'Apache',\n",
       " '&#1203;&#824;&#1202;&#824;&#1203; Hacked By Lutfie404 &#1203;&#824;&#1202;&#824;&#1203;': 'Apache',\n",
       " 'Hacked By xNight`': 'nginx/1.18.0 (Ubuntu)',\n",
       " 'Hacked by Mr Exsploit Wmc': 'Apache/1.3.33 (Unix) PHP/4.4.0',\n",
       " 'Hacked by Katib | SpyHackerz.Org | همه چیز در مورد ویزا و اقامت': 'Apache',\n",
       " 'Hacked By Ayyıldız Tim &#8211; Hacked By Ayyıldız Tim': 'Apache/2.4.41 (Ubuntu)',\n",
       " 'Hacked By Nariozon': 'Apache',\n",
       " 'hacked by MR.HAGAN_404CR4ZY &#8211; Just another WordPress site': 'Apache',\n",
       " 'Hacked By MR.GREEN &#8211; Just another WordPress site': 'Apache/2.4.29 (Ubuntu)',\n",
       " 'Hacked by Aliester Crowley': 'Apache',\n",
       " 'Hacked By Wans_X12 Ft Wedus_X12': 'Apache',\n",
       " 'Hacked By ./YzGans &#8211; Just another WordPress site': 'nginx',\n",
       " 'hacked by mr.anderson': 'Apache',\n",
       " 'Hacked By Shazuro & Mafia': 'Apache/2.4.53 (cPanel) OpenSSL/1.1.1n mod_bwlimited/1.4',\n",
       " 'Hacked By MR.T1T4N &#8211; We Are SABUN BOLONG CYBER CLUB': 'Apache',\n",
       " 'Introduction to ClearOS | Hacked by tokeichun': 'Apache/2.4.6 (CentOS) OpenSSL/1.0.2k-fips',\n",
       " 'Hacked By Mr.ToKeiChun69': 'Apache',\n",
       " 'Hacked by CursedCyber | NosTa - DsTeam': 'Apache/2.4.29 (Ubuntu)',\n",
       " 'Hacked By DikXploit': 'Apache',\n",
       " 'Hacked By geledex &#8211; Just another WordPress site': 'Apache/2.4.18 (Ubuntu)',\n",
       " '~[+]~ Hacked By KingSam ~[+]~': 'Apache',\n",
       " 'Index - / (Hacked by Ricter49)': 'nginx/1.14.1',\n",
       " 'Hello! Welcome to Synology Web Station! HacKed by Xpower': 'nginx',\n",
       " 'hacked by Zed': 'Apache',\n",
       " 'Hacked by FarisGanss': 'Apache/2.4.38 (Debian)',\n",
       " 'hacked by Adit Arlos | Just another WordPress site': 'Apache'}"
      ]
     },
     "execution_count": 5,
     "metadata": {},
     "output_type": "execute_result"
    }
   ],
   "source": [
    "hackers"
   ]
  },
  {
   "cell_type": "code",
   "execution_count": 7,
   "id": "3adeba78-4353-452c-96dd-a1b39ff5de2c",
   "metadata": {},
   "outputs": [],
   "source": [
    "hackers_df = pd.DataFrame(hackers.items(), columns=[\"Hacker\", \"Server\"])"
   ]
  },
  {
   "cell_type": "markdown",
   "id": "4601f046-fc9d-4f8f-9dee-ccdcc02feccc",
   "metadata": {},
   "source": [
    "#### Show \"Top Ten\" Hackers"
   ]
  },
  {
   "cell_type": "code",
   "execution_count": 9,
   "id": "a5f3f746-166c-446a-92d6-ded7b16da71a",
   "metadata": {},
   "outputs": [
    {
     "data": {
      "text/plain": [
       "HackeD By Desert Warriors                                                                    1\n",
       "Hacked By Ayyıldız Tim &#8211; Hacked By Ayyıldız Tim                                        1\n",
       "Hacked by Katib | SpyHackerz.Org | همه چیز در مورد ویزا و اقامت                              1\n",
       "Hacked by Mr Exsploit Wmc                                                                    1\n",
       "Hacked By xNight`                                                                            1\n",
       "&#1203;&#824;&#1202;&#824;&#1203; Hacked By Lutfie404 &#1203;&#824;&#1202;&#824;&#1203;      1\n",
       " Hacked by Kabuto & Madara & Kenzuna                                                         1\n",
       "Hacked By Nariozon                                                                           1\n",
       "Our Work | Hacked by tokeichun                                                               1\n",
       "Hacked by Reza_X7 &#8211; Just another WordPress site                                        1\n",
       "Hacked by Fr13nds                                                                            1\n",
       "HACKED by WarLoCk                                                                            1\n",
       "[+] Hacked By Ax[+] 2022                                                                     1\n",
       "Hacked By Fahri.XD                                                                           1\n",
       "Hacked by Sir Dede                                                                           1\n",
       "Hacked By Phantom & Termi                                                                    1\n",
       " Hacked by Sp0d3rM4n                                                                         1\n",
       "hacked by MR.HAGAN_404CR4ZY &#8211; Just another WordPress site                              1\n",
       "Hacked by Aliester Crowley                                                                   1\n",
       "hacked by Zed                                                                                1\n",
       "Hello! Welcome to Synology Web Station! HacKed by Xpower                                     1\n",
       "Index - / (Hacked by Ricter49)                                                               1\n",
       "~[+]~ Hacked By KingSam ~[+]~                                                                1\n",
       "Hacked By geledex &#8211; Just another WordPress site                                        1\n",
       "Hacked By DikXploit                                                                          1\n",
       "Hacked By MR.GREEN &#8211; Just another WordPress site                                       1\n",
       "Hacked by CursedCyber | NosTa - DsTeam                                                       1\n",
       "Introduction to ClearOS | Hacked by tokeichun                                                1\n",
       "Hacked By MR.T1T4N &#8211; We Are SABUN BOLONG CYBER CLUB                                    1\n",
       "Hacked By Shazuro & Mafia                                                                    1\n",
       "hacked by mr.anderson                                                                        1\n",
       "Hacked By ./YzGans &#8211; Just another WordPress site                                       1\n",
       "Hacked By Wans_X12 Ft Wedus_X12                                                              1\n",
       "Hacked By Mr.ToKeiChun69                                                                     1\n",
       "Hacked by FarisGanss                                                                         1\n",
       "Hacked By Farel07 &#8211; JUST9 BLACKHAT                                                     1\n",
       "HacKed by b3t@.Qu@rK                                                                         1\n",
       "Hacked by P3YCH                                                                              1\n",
       "[+]~HaCKeD By Bl4ck_C0d3r | Cyb3r_Sw0rd !~[+]                                                1\n",
       "hacked by slou                                                                               1\n",
       "Hacked By Skyzi Xploit                                                                       1\n",
       " Hacked By Xeit666h05T                                                                       1\n",
       "Hacked by BDhaCkers009                                                                       1\n",
       "Hacked by 4Ri3 60ndr0n9 &#8211; Hacked by 4Ri3 60ndr0n9                                      1\n",
       "HACKED BY MR.X404                                                                            1\n",
       "Hacked By @HowAmI | @HowAmI_xD                                                               1\n",
       "Hacked By Xtremee killar aka Seckiller                                                       1\n",
       "Hacked by 407 Authentic Exploit                                                              1\n",
       "HACKED BY MOSLEM | Just another WordPress site                                               1\n",
       "HACKED by TheZero                                                                            1\n",
       "Hacked By Sipahiler                                                                          1\n",
       "Hacked By MR-H.A.K                                                                           1\n",
       "Hacked By CNSS                                                                               1\n",
       "Hacked By Tn.Rezza403                                                                        1\n",
       "Hacked By MR.404CYBER                                                                        1\n",
       "Hacked By Ghost Tim Security Army Hackers                                                    1\n",
       "|Hacked by Ali Afee                                                                          1\n",
       "Hacked by Katib | SpyHackerz.Org                                                             1\n",
       "Hacked! By M4ST3R                                                                            1\n",
       "hacked by mr.croot                                                                           1\n",
       "Hacked By XNight                                                                             1\n",
       "\\n      Hacked By EbRaHiM-VaKeR / Iranonymous.com\\n | iWish\\n                                1\n",
       "Hacked by Matigan1337                                                                        1\n",
       "HACKED BY YUNUS_EMRE AND TÜRK SİBER TİMİ &#8211; HACKED BY YUNUS_EMRE AND TÜRK SİBER TİMİ    1\n",
       "hacked by MR44J                                                                              1\n",
       "Hacked By Mrcakil &#8211; Just another WordPress site                                        1\n",
       "hacked by temp3 &#8211; Bandung6etar &#8211; Just another WordPress site                     1\n",
       "HACKED BY TERİHEX                                                                            1\n",
       "Hacked by ./randiXploit &#8211; Just another WordPress site                                  1\n",
       "Hacked By Red-z1                                                                             1\n",
       "hacked by Adit Arlos | Just another WordPress site                                           1\n",
       "Name: Hacker, dtype: int64"
      ]
     },
     "execution_count": 9,
     "metadata": {},
     "output_type": "execute_result"
    }
   ],
   "source": [
    "hackers_df[\"Hacker\"].value_counts(ascending=True)"
   ]
  },
  {
   "cell_type": "code",
   "execution_count": null,
   "id": "690f73e4-0154-4bc3-98cc-8a5d989d1f71",
   "metadata": {},
   "outputs": [],
   "source": [
    "hackesr_df.groupby(\"Server\").value_counts()"
   ]
  },
  {
   "cell_type": "code",
   "execution_count": 6,
   "id": "f11ea9fd-21c0-4afc-8d95-af416f2f4a13",
   "metadata": {},
   "outputs": [
    {
     "ename": "NameError",
     "evalue": "name 'hacker_df' is not defined",
     "output_type": "error",
     "traceback": [
      "\u001b[0;31m---------------------------------------------------------------------------\u001b[0m",
      "\u001b[0;31mNameError\u001b[0m                                 Traceback (most recent call last)",
      "Input \u001b[0;32mIn [6]\u001b[0m, in \u001b[0;36m<cell line: 1>\u001b[0;34m()\u001b[0m\n\u001b[0;32m----> 1\u001b[0m hackercounts\u001b[38;5;241m=\u001b[39m\u001b[43mhacker_df\u001b[49m[\u001b[38;5;124m\"\u001b[39m\u001b[38;5;124mHacker\u001b[39m\u001b[38;5;124m\"\u001b[39m]\u001b[38;5;241m.\u001b[39mvalue_counts()\n\u001b[1;32m      2\u001b[0m pd\u001b[38;5;241m.\u001b[39mDataFrame(hackercounts)\n",
      "\u001b[0;31mNameError\u001b[0m: name 'hacker_df' is not defined"
     ]
    }
   ],
   "source": [
    "hackercounts=hackers_df[\"Hacker\"].value_counts()\n",
    "pd.DataFrame(hackercounts)"
   ]
  },
  {
   "cell_type": "code",
   "execution_count": null,
   "id": "0b36b492-6126-4f4f-8596-7e5e0a8401f9",
   "metadata": {},
   "outputs": [],
   "source": [
    "# Get the total number of industrial control systems services on the Internet\n",
    "ics_services = api.count(\"tag:ics\")\n",
    "print(\"Industrial Control Systems: {}\".format(ics_services[\"total\"]))"
   ]
  }
 ],
 "metadata": {
  "kernelspec": {
   "display_name": "Python 3.10.2 64-bit",
   "language": "python",
   "name": "python3"
  },
  "language_info": {
   "codemirror_mode": {
    "name": "ipython",
    "version": 3
   },
   "file_extension": ".py",
   "mimetype": "text/x-python",
   "name": "python",
   "nbconvert_exporter": "python",
   "pygments_lexer": "ipython3",
   "version": "3.10.2"
  },
  "vscode": {
   "interpreter": {
    "hash": "26de051ba29f2982a8de78e945f0abaf191376122a1563185a90213a26c5da77"
   }
  }
 },
 "nbformat": 4,
 "nbformat_minor": 5
}
